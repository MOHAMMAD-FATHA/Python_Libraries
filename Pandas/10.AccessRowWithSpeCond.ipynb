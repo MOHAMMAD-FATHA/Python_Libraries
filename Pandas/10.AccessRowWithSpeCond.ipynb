{
 "cells": [
  {
   "cell_type": "code",
   "execution_count": 32,
   "source": [
    "\"\"\"\n",
    "* @Author: Mohammad Fatha\n",
    "* @Date: 2021-10-05 02:40\n",
    "* @Last Modified by: Mohammad Fatha\n",
    "* @Last Modified time: 2021-10-05 02:40\n",
    "* @Title: : Pandas Python program to select the rows where the number of attempts in the\n",
    "examination is greater than 2.\n",
    "Sample DataFrame:\n",
    "exam_data = {'name': ['Anastasia', 'Dima', 'Katherine', 'James', 'Emily', 'Michael', 'Matthew', 'Laura', 'Kevin', 'Jonas'],\n",
    "'score': [12.5, 9, 16.5, np.nan, 9, 20, 14.5, np.nan, 8, 19],\n",
    "'attempts': [1, 3, 2, 3, 2, 3, 1, 1, 2, 1],\n",
    "'qualify': ['yes', 'no', 'yes', 'no', 'no', 'yes', 'yes', 'no', 'no', 'yes']}\n",
    "labels = ['a', 'b', 'c', 'd', 'e', 'f', 'g', 'h', 'i', 'j']\n",
    "\"\"\"\n",
    "\n",
    "import pandas as pd\n",
    "import numpy as np\n",
    "\n",
    "exam_data  = {'name': ['Anastasia', 'Dima', 'Katherine', 'James', 'Emily', 'Michael', 'Matthew', 'Laura', 'Kevin', 'Jonas'],\n",
    "        'score': [12.5, 9, 16.5, np.nan, 9, 20, 14.5, np.nan, 8, 19],\n",
    "        'attempts': [1, 3, 2, 3, 2, 3, 1, 1, 2, 1],\n",
    "        'qualify': ['yes', 'no', 'yes', 'no', 'no', 'yes', 'yes', 'no', 'no', 'yes']}\n",
    "labels = ['a', 'b', 'c', 'd', 'e', 'f', 'g', 'h', 'i', 'j']\n",
    "\n",
    "df = pd.DataFrame(exam_data , index=labels)\n",
    "print(\"Select specific columns and rows where attempts are greater that 2:\")\n",
    "print(df[df['attempts']>2])\n",
    "\n",
    "# Refer to the row index i,e a,b,c etc\n",
    "# print(df.loc['c', :])\n",
    "# print(df.loc[:,'name'])"
   ],
   "outputs": [
    {
     "output_type": "stream",
     "name": "stdout",
     "text": [
      "Select specific columns and rows where attempts are greater that 2:\n",
      "      name  score  attempts qualify\n",
      "b     Dima    9.0         3      no\n",
      "d    James    NaN         3      no\n",
      "f  Michael   20.0         3     yes\n",
      "name        Katherine\n",
      "score            16.5\n",
      "attempts            2\n",
      "qualify           yes\n",
      "Name: c, dtype: object\n",
      "a    Anastasia\n",
      "b         Dima\n",
      "c    Katherine\n",
      "d        James\n",
      "e        Emily\n",
      "f      Michael\n",
      "g      Matthew\n",
      "h        Laura\n",
      "i        Kevin\n",
      "j        Jonas\n",
      "Name: name, dtype: object\n"
     ]
    }
   ],
   "metadata": {}
  }
 ],
 "metadata": {
  "orig_nbformat": 4,
  "language_info": {
   "name": "python",
   "version": "3.9.5",
   "mimetype": "text/x-python",
   "codemirror_mode": {
    "name": "ipython",
    "version": 3
   },
   "pygments_lexer": "ipython3",
   "nbconvert_exporter": "python",
   "file_extension": ".py"
  },
  "kernelspec": {
   "name": "python3",
   "display_name": "Python 3.9.5 64-bit"
  },
  "interpreter": {
   "hash": "31f2aee4e71d21fbe5cf8b01ff0e069b9275f58929596ceb00d14d90e3e16cd6"
  }
 },
 "nbformat": 4,
 "nbformat_minor": 2
}