{
 "cells": [
  {
   "cell_type": "code",
   "execution_count": 1,
   "source": [
    "\"\"\"\n",
    "* @Author: Mohammad Fatha\n",
    "* @Date: 2021-10-05 1:27\n",
    "* @Last Modified by: Mohammad Fatha\n",
    "* @Last Modified time: 2021-10-05 1:27 \n",
    "* @Title: : Pandas program to create and display a one-dimensional array-like object containing an \n",
    "            array of data.\n",
    "\"\"\"\n",
    "import pandas as pd\n",
    "ds = pd.Series([2, 4, 6, 8, 10])\n",
    "print(\"Pandas Series and type\")\n",
    "print(ds)\n",
    "print(type(ds))\n",
    "print(\"Convert Pandas Series to Python list\")\n",
    "print(ds.tolist())\n",
    "print(type(ds.tolist()))"
   ],
   "outputs": [
    {
     "output_type": "stream",
     "name": "stdout",
     "text": [
      "Pandas Series and type\n",
      "0     2\n",
      "1     4\n",
      "2     6\n",
      "3     8\n",
      "4    10\n",
      "dtype: int64\n",
      "<class 'pandas.core.series.Series'>\n",
      "Convert Pandas Series to Python list\n",
      "[2, 4, 6, 8, 10]\n",
      "<class 'list'>\n"
     ]
    }
   ],
   "metadata": {}
  }
 ],
 "metadata": {
  "orig_nbformat": 4,
  "language_info": {
   "name": "python",
   "version": "3.9.5",
   "mimetype": "text/x-python",
   "codemirror_mode": {
    "name": "ipython",
    "version": 3
   },
   "pygments_lexer": "ipython3",
   "nbconvert_exporter": "python",
   "file_extension": ".py"
  },
  "kernelspec": {
   "name": "python3",
   "display_name": "Python 3.9.5 64-bit"
  },
  "interpreter": {
   "hash": "31f2aee4e71d21fbe5cf8b01ff0e069b9275f58929596ceb00d14d90e3e16cd6"
  }
 },
 "nbformat": 4,
 "nbformat_minor": 2
}