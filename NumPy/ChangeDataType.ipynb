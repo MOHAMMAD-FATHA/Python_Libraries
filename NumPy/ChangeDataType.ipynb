{
 "cells": [
  {
   "cell_type": "code",
   "execution_count": 1,
   "source": [
    "\"\"\"\n",
    "* @Author: Mohammad Fatha\n",
    "* @Date: 2021-10-03 19:34\n",
    "* @Last Modified by: Mohammad Fatha\n",
    "* @Last Modified time: 2021-10-03 19:34\n",
    "* @Title: :NumPy program to change the data type of an array.\n",
    "\"\"\"\n",
    "import numpy as np\n",
    "x = np.array([[2, 4, 6], [6, 8, 10]], np.int32)\n",
    "print(x)\n",
    "print(\"Data type of the array x is:\",x.dtype)\n",
    "# Change the data type of x\n",
    "y = x.astype(float)\n",
    "print(\"New Type: \",y.dtype)\n",
    "print(y)\n",
    "\n",
    "#Handling for null values\n",
    "#Info in dataframe, Discribe\n",
    "#What kind of graph is when it is used"
   ],
   "outputs": [
    {
     "output_type": "stream",
     "name": "stdout",
     "text": [
      "[[ 2  4  6]\n",
      " [ 6  8 10]]\n",
      "Data type of the array x is: int32\n",
      "New Type:  float64\n",
      "[[ 2.  4.  6.]\n",
      " [ 6.  8. 10.]]\n"
     ]
    }
   ],
   "metadata": {}
  }
 ],
 "metadata": {
  "orig_nbformat": 4,
  "language_info": {
   "name": "python",
   "version": "3.9.5",
   "mimetype": "text/x-python",
   "codemirror_mode": {
    "name": "ipython",
    "version": 3
   },
   "pygments_lexer": "ipython3",
   "nbconvert_exporter": "python",
   "file_extension": ".py"
  },
  "kernelspec": {
   "name": "python3",
   "display_name": "Python 3.9.5 64-bit"
  },
  "interpreter": {
   "hash": "31f2aee4e71d21fbe5cf8b01ff0e069b9275f58929596ceb00d14d90e3e16cd6"
  }
 },
 "nbformat": 4,
 "nbformat_minor": 2
}