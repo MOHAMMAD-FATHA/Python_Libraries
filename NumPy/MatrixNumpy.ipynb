{
 "cells": [
  {
   "cell_type": "code",
   "execution_count": 3,
   "source": [
    "\"\"\"\n",
    "* @Author: Mohammad Fatha\n",
    "* @Date: 2021-10-02 17:40\n",
    "* @Last Modified by: Mohammad Fatha\n",
    "* @Last Modified time: 2021-10-02 17:40\n",
    "* @Title: :NumPy program to create a 3x3 matrix with values ranging from 2 to 10.\n",
    "\"\"\"\n",
    "\n",
    "import numpy as np\n",
    "x =  np.arange(2, 11).reshape(3,3)\n",
    "print(x)"
   ],
   "outputs": [
    {
     "output_type": "stream",
     "name": "stdout",
     "text": [
      "[[ 2  3  4]\n",
      " [ 5  6  7]\n",
      " [ 8  9 10]]\n"
     ]
    }
   ],
   "metadata": {}
  }
 ],
 "metadata": {
  "orig_nbformat": 4,
  "language_info": {
   "name": "python",
   "version": "3.9.5",
   "mimetype": "text/x-python",
   "codemirror_mode": {
    "name": "ipython",
    "version": 3
   },
   "pygments_lexer": "ipython3",
   "nbconvert_exporter": "python",
   "file_extension": ".py"
  },
  "kernelspec": {
   "name": "python3",
   "display_name": "Python 3.9.5 64-bit"
  },
  "interpreter": {
   "hash": "916dbcbb3f70747c44a77c7bcd40155683ae19c65e1c03b4aa3499c5328201f1"
  }
 },
 "nbformat": 4,
 "nbformat_minor": 2
}