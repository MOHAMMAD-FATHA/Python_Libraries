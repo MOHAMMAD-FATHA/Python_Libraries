{
 "cells": [
  {
   "cell_type": "code",
   "execution_count": 3,
   "source": [
    "\"\"\"\n",
    "* @Author: Mohammad Fatha\n",
    "* @Date: 2021-10-03 19:05\n",
    "* @Last Modified by: Mohammad Fatha\n",
    "* @Last Modified time: 2021-10-03 19:05\n",
    "* @Title: :PPython program to find the set difference of two arrays. The set difference\n",
    "will return the sorted, unique values in array1 that are not in array2.\n",
    "Expected Output:\n",
    "Array1: [ 0 10 20 40 60 80]\n",
    "Array2: [10, 30, 40, 50, 70, 90]\n",
    "Set difference between two arrays:\n",
    "[ 0 20 60 80]\n",
    "\"\"\"\n",
    "import numpy as np\n",
    "array1 = np.array([0, 10, 20, 40, 60, 80])\n",
    "print(\"Array1: \",array1)\n",
    "array2 = [10, 30, 40, 50, 70]\n",
    "print(\"Array2: \",array2)\n",
    "print(\"Unique values in array1 that are not in array2:\")\n",
    "print(np.setdiff1d(array1, array2))\n",
    "print(\"Unique values in array 2 that are not in array 1:\")\n",
    "print(np.setdiff1d(array2, array1))"
   ],
   "outputs": [
    {
     "output_type": "stream",
     "name": "stdout",
     "text": [
      "Array1:  [ 0 10 20 40 60 80]\n",
      "Array2:  [10, 30, 40, 50, 70]\n",
      "Unique values in array1 that are not in array2:\n",
      "[ 0 20 60 80]\n",
      "Unique values in array 2 that are not in array 1:\n",
      "[30 50 70]\n"
     ]
    }
   ],
   "metadata": {}
  }
 ],
 "metadata": {
  "orig_nbformat": 4,
  "language_info": {
   "name": "python",
   "version": "3.9.5",
   "mimetype": "text/x-python",
   "codemirror_mode": {
    "name": "ipython",
    "version": 3
   },
   "pygments_lexer": "ipython3",
   "nbconvert_exporter": "python",
   "file_extension": ".py"
  },
  "kernelspec": {
   "name": "python3",
   "display_name": "Python 3.9.5 64-bit"
  },
  "interpreter": {
   "hash": "31f2aee4e71d21fbe5cf8b01ff0e069b9275f58929596ceb00d14d90e3e16cd6"
  }
 },
 "nbformat": 4,
 "nbformat_minor": 2
}