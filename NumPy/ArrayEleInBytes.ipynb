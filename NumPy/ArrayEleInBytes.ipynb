{
 "cells": [
  {
   "cell_type": "code",
   "execution_count": 2,
   "source": [
    "\"\"\"\n",
    "* @Author: Mohammad Fatha\n",
    "* @Date: 2021-10-03 19:00\n",
    "* @Last Modified by: Mohammad Fatha\n",
    "* @Last Modified time: 2021-10-03 19:00\n",
    "* @Title: :NumPy program to find the number of elements of an array, length of one array element in bytes \n",
    "            and total bytes consumed by the elements\n",
    "\"\"\"\n",
    "\n",
    "import numpy as np\n",
    "x = np.array([1,2,3,4], dtype=np.float64)\n",
    "print(\"Size of the array: \", x.size)\n",
    "print(\"Length of one array element in bytes: \", x.itemsize)\n",
    "print(\"Total bytes consumed by the elements of the array: \", x.nbytes)"
   ],
   "outputs": [
    {
     "output_type": "stream",
     "name": "stdout",
     "text": [
      "Size of the array:  4\n",
      "Length of one array element in bytes:  8\n",
      "Total bytes consumed by the elements of the array:  32\n"
     ]
    }
   ],
   "metadata": {}
  }
 ],
 "metadata": {
  "orig_nbformat": 4,
  "language_info": {
   "name": "python",
   "version": "3.9.5",
   "mimetype": "text/x-python",
   "codemirror_mode": {
    "name": "ipython",
    "version": 3
   },
   "pygments_lexer": "ipython3",
   "nbconvert_exporter": "python",
   "file_extension": ".py"
  },
  "kernelspec": {
   "name": "python3",
   "display_name": "Python 3.9.5 64-bit"
  },
  "interpreter": {
   "hash": "31f2aee4e71d21fbe5cf8b01ff0e069b9275f58929596ceb00d14d90e3e16cd6"
  }
 },
 "nbformat": 4,
 "nbformat_minor": 2
}