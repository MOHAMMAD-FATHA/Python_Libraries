{
 "cells": [
  {
   "cell_type": "code",
   "execution_count": 5,
   "source": [
    "\"\"\"\n",
    "* @Author: Mohammad Fatha\n",
    "* @Date: 2021-10-04 21:57\n",
    "* @Last Modified by: Mohammad Fatha\n",
    "* @Last Modified time: 2021-10-04 21:57\n",
    "* @Title: :NumPy program to add an extra column to a NumPy array\n",
    "\"\"\"\n",
    "\n",
    "import numpy as np\n",
    "x = np.array([[10,20,30], [40,50,60]])\n",
    "y = np.array([[100], [200]])\n",
    "print(np.append(x, y, axis=1))"
   ],
   "outputs": [
    {
     "output_type": "stream",
     "name": "stdout",
     "text": [
      "[[ 10  20  30 100]\n",
      " [ 40  50  60 200]]\n"
     ]
    }
   ],
   "metadata": {}
  }
 ],
 "metadata": {
  "orig_nbformat": 4,
  "language_info": {
   "name": "python",
   "version": "3.9.5",
   "mimetype": "text/x-python",
   "codemirror_mode": {
    "name": "ipython",
    "version": 3
   },
   "pygments_lexer": "ipython3",
   "nbconvert_exporter": "python",
   "file_extension": ".py"
  },
  "kernelspec": {
   "name": "python3",
   "display_name": "Python 3.9.5 64-bit"
  },
  "interpreter": {
   "hash": "31f2aee4e71d21fbe5cf8b01ff0e069b9275f58929596ceb00d14d90e3e16cd6"
  }
 },
 "nbformat": 4,
 "nbformat_minor": 2
}