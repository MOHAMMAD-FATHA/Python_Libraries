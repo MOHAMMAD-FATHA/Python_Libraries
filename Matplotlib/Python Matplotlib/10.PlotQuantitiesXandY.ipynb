{
 "cells": [
  {
   "cell_type": "code",
   "execution_count": 9,
   "source": [
    "\"\"\"\n",
    "* @Author: Mohammad Fatha\n",
    "* @Date: 2021-10-07 00:20\n",
    "* @Last Modified by: Mohammad Fatha\n",
    "* @Last Modified time: 2021-10-07 00:20\n",
    "* @Title: :Python program to plot quantities which have an x and y position.\n",
    "\"\"\"\n",
    "\n",
    "import numpy as np\n",
    "import pylab as pl\n",
    "# Make an array of x values\n",
    "x1 = [2, 3, 5, 6, 8]\n",
    "# Make an array of y values for each x value\n",
    "y1 = [1, 5, 10, 18, 20]\n",
    "# Make an array of x values\n",
    "x2 = [3, 4, 6, 7, 9]\n",
    "# Make an array of y values for each x value\n",
    "y2 = [2, 6, 11, 20, 22]\n",
    "# set new axes limits\n",
    "pl.axis([0, 10, 0, 30]) \n",
    "# use pylab to plot x and y as red circles\n",
    "pl.plot(x1, y1,'*', x2, y2, 'o')\n",
    "# show the plot on the screen\n",
    "pl.show()"
   ],
   "outputs": [
    {
     "output_type": "display_data",
     "data": {
      "image/png": "[encoded data removed]",
      "text/plain": [
       "<Figure size 432x288 with 1 Axes>"
      ]
     },
     "metadata": {
      "needs_background": "light"
     }
    }
   ],
   "metadata": {}
  }
 ],
 "metadata": {
  "orig_nbformat": 4,
  "language_info": {
   "name": "python",
   "version": "3.9.5",
   "mimetype": "text/x-python",
   "codemirror_mode": {
    "name": "ipython",
    "version": 3
   },
   "pygments_lexer": "ipython3",
   "nbconvert_exporter": "python",
   "file_extension": ".py"
  },
  "kernelspec": {
   "name": "python3",
   "display_name": "Python 3.9.5 64-bit"
  },
  "interpreter": {
   "hash": "31f2aee4e71d21fbe5cf8b01ff0e069b9275f58929596ceb00d14d90e3e16cd6"
  }
 },
 "nbformat": 4,
 "nbformat_minor": 2
}